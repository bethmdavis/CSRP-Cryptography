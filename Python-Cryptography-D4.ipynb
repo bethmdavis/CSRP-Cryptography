{
 "cells": [
  {
   "cell_type": "markdown",
   "id": "b91e7ab7",
   "metadata": {},
   "source": [
    "# Cryptography with Python (Day 4)"
   ]
  },
  {
   "cell_type": "markdown",
   "id": "9690c1c2",
   "metadata": {},
   "source": [
    "### Thinking like an adversary\n",
    "\n",
    "In this notebook, we'll explore how to approach cybersecurity and cryptography like an adversary. Thinking like an adversary is a critical skill. Wouldn't you want to identify your own cyber weaknesses and vulnerabilities before someone _else_ does? \n",
    "\n",
    "To accomplish this, we will work through Python scripts that are capable of brute-forcing three ciphers we have explored thus far: \n",
    "\n",
    "1. Shift ciphers\n",
    "2. Substitution ciphers\n",
    "3. Transposition ciphers"
   ]
  },
  {
   "cell_type": "markdown",
   "id": "23cdae5e",
   "metadata": {},
   "source": [
    "### Cracking a shift cipher with brute force\n",
    "\n",
    "Recall that a shift cipher is a method of producing cipher text, wherein the characters in the plain text message are shifted by a mathematical value or function. For example, the plain text message below is encoded to cipher text using the function: \n",
    "\n",
    "_cipher text = plain text letter position + 3_\n",
    "\n",
    "plain text = cat\n",
    "\n",
    "cipher text = fdw\n",
    "\n",
    "#### Bruteforcing a simple shift cipher (Code Block A)"
   ]
  },
  {
   "cell_type": "code",
   "execution_count": null,
   "id": "244f603e",
   "metadata": {},
   "outputs": [],
   "source": [
    "cipher_text = input(\"What is your cipher text you wish to crack? \")\n",
    "\n",
    "for shift in range(1, 26):\n",
    "    plain_text = \"\"\n",
    "    for c in cipher_text:\n",
    "        plain_text += chr(int((ord(c) - shift)))\n",
    "    print(\"Shift {}: {}\".format(shift, plain_text))"
   ]
  },
  {
   "cell_type": "markdown",
   "id": "4d1b35b5",
   "metadata": {},
   "source": [
    "### Cracking a substitution cipher with brute force\n",
    "\n",
    "Recall that a substitution cipher is a method of encryption where each letter in the plaintext is replaced by another letter according to a predetermined rule. For example, a simple substitution cipher might replace every \"a\" in the plaintext with \"c\", every \"b\" with \"d\", and so on.\n",
    "\n",
    "To brute force a substitution cipher, we need to try every possible combination of letter substitutions until we find the correct one that decodes the ciphertext. Use the code block below to explore how to brute force a substitution cipher.\n",
    "\n",
    "#### Bruteforcing a substitution cipher (Code Block B)"
   ]
  },
  {
   "cell_type": "code",
   "execution_count": null,
   "id": "3c519f44",
   "metadata": {},
   "outputs": [],
   "source": [
    "import string\n",
    "\n",
    "# Define the ciphertext\n",
    "ciphertext = input(\"What is the cipher text you wish to crack?  \")\n",
    "\n",
    "# Define the alphabet\n",
    "alphabet = string.ascii_lowercase\n",
    "\n",
    "# Try every possible shift from 1 to 25\n",
    "for shift in range(1, 26):\n",
    "\n",
    "    # Initialize the plaintext with an empty string\n",
    "    plaintext = \"\"\n",
    "\n",
    "    # Try each letter in the ciphertext\n",
    "    for letter in ciphertext:\n",
    "\n",
    "        # Check if the letter is in the alphabet\n",
    "        if letter.lower() in alphabet:\n",
    "\n",
    "            # Get the index of the letter in the alphabet\n",
    "            index = alphabet.index(letter.lower())\n",
    "\n",
    "            # Shift the index by the shift amount\n",
    "            shifted_index = (index + shift) % 26\n",
    "\n",
    "            # Add the shifted letter to the plaintext\n",
    "            plaintext += alphabet[shifted_index]\n",
    "\n",
    "        else:\n",
    "            # Add the non-alphabetic character to the plaintext as is\n",
    "            plaintext += letter\n",
    "\n",
    "    # Print the plaintext for this shift\n",
    "    print(f\"Shift {shift}: {plaintext}\")\n"
   ]
  },
  {
   "cell_type": "markdown",
   "id": "be78a29b",
   "metadata": {},
   "source": [
    "### Cracking a transposition cipher with brute force\n",
    "\n",
    "Recall that transposition cipher is a type of encryption where the letters of the plaintext are rearranged in a specific way, but the letters themselves are not replaced. Brute forcing a transposition cipher involves trying every possible rearrangement of the letters until the correct one is found.\n",
    "\n",
    "In this script, we first define the ciphertext as a string. We then define the length of the ciphertext as n.\n",
    "\n",
    "We then loop through every possible combination of the letter sequence in the ciphertext. For each possible sequence, we reverse the indices between i and j, inclusive, and use the resulting indices to rearrange the letters of the ciphertext. We then print the plaintext for that permutation.\n",
    "\n",
    "Note that this script will try a large number of permutations, which can be time-consuming for longer ciphertexts. In practice, you may want to limit the range of i and j to a smaller subset of the indices or use heuristics to try likely permutations first. \n",
    "\n",
    "This is may be a difficult example to grasp, as it makes use of lists and arrays, which are two Python concepts we have not discussed. That said, explore brute forcing transposition ciphers with the code block below. \n",
    "\n",
    "#### Bruteforcing a transposition cipher (Code Block C)"
   ]
  },
  {
   "cell_type": "code",
   "execution_count": null,
   "id": "e844b72b",
   "metadata": {},
   "outputs": [],
   "source": [
    "# Define the function to brute force the cipher\n",
    "\n",
    "def brute_force(ciphertext):\n",
    "    # Get the length of the ciphertext\n",
    "    cipher_length = len(ciphertext)\n",
    "\n",
    "    # Loop through all possible key sizes (from 1 to half the cipher length)\n",
    "    for key_size in range(1, cipher_length // 2 + 1):\n",
    "        # Calculate the number of columns in the transposition matrix\n",
    "        num_cols = cipher_length // key_size + (1 if cipher_length % key_size != 0 else 0)\n",
    "\n",
    "        # Calculate the number of empty cells at the end of the last row\n",
    "        num_empty_cells = num_cols * key_size - cipher_length\n",
    "\n",
    "        # Create the transposition matrix\n",
    "        matrix = [[''] * num_cols for _ in range(key_size)]\n",
    "\n",
    "        # Populate the matrix with the ciphertext\n",
    "        for i, c in enumerate(ciphertext):\n",
    "            row = i % key_size\n",
    "            col = i // key_size + (1 if row >= key_size - num_empty_cells else 0)\n",
    "            matrix[row][col] = c\n",
    "\n",
    "        # Extract the plaintext from the matrix\n",
    "        plaintext = ''.join([''.join(row) for row in matrix])\n",
    "\n",
    "        # Print the plaintext and the key size\n",
    "        print(f\"Key size: {key_size}\\nPlaintext: {plaintext}\\n\")\n",
    "\n",
    "# Test the function with an example ciphertext\n",
    "\n",
    "example_ciphertext = input(\"What is the cipher text you want to crack?  \")\n",
    "brute_force(example_ciphertext)"
   ]
  }
 ],
 "metadata": {
  "kernelspec": {
   "display_name": "Python 3 (ipykernel)",
   "language": "python",
   "name": "python3"
  },
  "language_info": {
   "codemirror_mode": {
    "name": "ipython",
    "version": 3
   },
   "file_extension": ".py",
   "mimetype": "text/x-python",
   "name": "python",
   "nbconvert_exporter": "python",
   "pygments_lexer": "ipython3",
   "version": "3.9.7"
  }
 },
 "nbformat": 4,
 "nbformat_minor": 5
}
