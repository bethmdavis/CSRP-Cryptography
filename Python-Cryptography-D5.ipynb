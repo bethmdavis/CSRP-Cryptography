{
 "cells": [
  {
   "cell_type": "markdown",
   "id": "16fdcea2",
   "metadata": {},
   "source": [
    "# Cryptography with Python (Day 5)"
   ]
  },
  {
   "cell_type": "markdown",
   "id": "0f21fd26",
   "metadata": {},
   "source": [
    "## Confidentiality\n",
    "\n",
    "How can we ensure confidentiality of our information and messages? That is to say... how can we make sure that only our intended recipients can access the information? \n",
    "##### Encryption - Encryption is a way to secure data through the use of encoding. Think of how we used ciphers to encode messages as numbers in our earlier days. Now we will apply that, but with increased sophistication such that the security of our information is robust and reliable. \n",
    "\n",
    "In this module, we will explore three encryption protocols using our Python coding notebooks. To explore each of these encryption protocols, we will use a classical cybersecurity scenario of Bob and Alice -- two individuals who want to communicate privately without a 3rd party that can intercept and read their messages."
   ]
  },
  {
   "cell_type": "markdown",
   "id": "2a282d2b",
   "metadata": {},
   "source": [
    "## Symmetric Key Encryption\n",
    "\n",
    "In symmetric key encryption, Bob and Alice each encrypt their message, each using their own secret key that they have agreed upon \"out of channel\". For example, assume that the duo are texting one another using the encrypted messages. They would have first had to have agreed upon their secret keys via a phone call or written letter, prior to engaing in encrypted conversation via text messaging. This is called symmetric key encryption, as the key used to encrypted the message is the same key as the one used to decrypt the message. \n",
    "\n",
    "Using the code block below, explore the application of symmetric key encryption to encrypting a message from Bob to Alice. "
   ]
  },
  {
   "cell_type": "markdown",
   "id": "1adf4fa4",
   "metadata": {},
   "source": [
    "##### Symmetric Key Encryption using a cipher (Code Block A)"
   ]
  },
  {
   "cell_type": "code",
   "execution_count": null,
   "id": "0f08215a",
   "metadata": {},
   "outputs": [],
   "source": [
    "BobMessage = input(\"What is Bob's plain text message to Alice?  \")\n",
    "BobKey = int(input(\"What is Bob's secret key that he has shared with Alice out of channel?  \"))\n",
    "BobMessageEncrypted = \"\"\n",
    "for l in BobMessage:\n",
    "    c = ord(l) * BobKey\n",
    "    BobMessageEncrypted += (chr(c))\n",
    "print('The encrypted message Alice receives is:  ', BobMessageEncrypted)\n",
    "BobMessageUnencrypted = \"\"\n",
    "for l in BobMessageEncrypted: \n",
    "    c = int(ord(l) / BobKey)\n",
    "    BobMessageUnencrypted += (chr(c))\n",
    "print(\"The unencrypted, plain text message Alice can read after decryption is:  \", BobMessageUnencrypted)"
   ]
  },
  {
   "cell_type": "markdown",
   "id": "98ed6f27",
   "metadata": {},
   "source": [
    "### Using multiple rounds of a cipher\n",
    "\n",
    "You may notice that the above encryption example is pretty basic -- it is just a simple shift cipher applied to communication between two individuals. \n",
    "\n",
    "To improve upon the security of ciphers, encryption protocols can use ciphers in sequence. That is to say, they can use Cipher A to encode the plain text data into cipher text, and then use Cipher B to further encode the ciper text. \n",
    "\n",
    "Using multiple cipher rounds is a common practice in encryption protocols. In the code below, we used a three different types of ciphers to produce the ciphertext. Can you figure out which ciphers were used and where they appear in the code?"
   ]
  },
  {
   "cell_type": "markdown",
   "id": "a6f8e134",
   "metadata": {},
   "source": [
    "##### Symmetric Key Encryption using multiple cipher rounds (Code Block B)"
   ]
  },
  {
   "cell_type": "code",
   "execution_count": null,
   "id": "50e04b31",
   "metadata": {},
   "outputs": [],
   "source": [
    "import random ## this is library we are used to help generate a random integer in one of the cipher scripts\n",
    "\n",
    "\n",
    "## here we are defining each of the ciphers seperately as a function that we can invoke\n",
    "def shift_cipher(plaintext, shift): \n",
    "    \"\"\"Encrypts plaintext using a shift cipher with a given shift\"\"\"\n",
    "    ciphertext = \"\"\n",
    "    for char in plaintext:\n",
    "        if char.isalpha():\n",
    "            shifted_char = chr((ord(char) - 65 + shift) % 26 + 65)\n",
    "            ciphertext += shifted_char\n",
    "        else:\n",
    "            ciphertext += char\n",
    "    return ciphertext\n",
    "\n",
    "def substitution_cipher(plaintext, key):\n",
    "    \"\"\"Encrypts plaintext using a substitution cipher with a given key\"\"\"\n",
    "    alphabet = \"ABCDEFGHIJKLMNOPQRSTUVWXYZ\"\n",
    "    cipher_alphabet = \"\"\n",
    "    for char in key.upper():\n",
    "        if char not in cipher_alphabet:\n",
    "            cipher_alphabet += char\n",
    "    for char in alphabet:\n",
    "        if char not in cipher_alphabet:\n",
    "            cipher_alphabet += char\n",
    "    ciphertext = plaintext.translate(str.maketrans(alphabet, cipher_alphabet))\n",
    "    return ciphertext\n",
    "\n",
    "def transposition_cipher(plaintext, key):\n",
    "    \"\"\"Encrypts plaintext using a transposition cipher with a given key\"\"\"\n",
    "    num_columns = len(key)\n",
    "    num_rows = len(plaintext) // num_columns + 1\n",
    "    filler_char = \"_\"\n",
    "    plaintext += filler_char * (num_rows * num_columns - len(plaintext))\n",
    "    matrix = [list(plaintext[i:i+num_columns]) for i in range(0, num_rows*num_columns, num_columns)]\n",
    "    key_order = sorted(range(num_columns), key=lambda k: key[k])\n",
    "    ciphertext = \"\"\n",
    "    for i in range(num_rows):\n",
    "        for j in key_order:\n",
    "            ciphertext += matrix[i][j]\n",
    "    return ciphertext\n",
    "\n",
    "def encrypt(plaintext): ## this is the final function that uses the three functions defined above\n",
    "    \"\"\"Encrypts plaintext using a combination of shift, substitution, and transposition ciphers\"\"\"\n",
    "    shift_key = random.randint(1, 25)\n",
    "    substitution_key = \"MNBVCXZLKJHGFDSAPOIUYTREWQ\"\n",
    "    transposition_key = \"CIPHER\"\n",
    "    ciphertext = shift_cipher(plaintext, shift_key)\n",
    "    ciphertext = substitution_cipher(ciphertext, substitution_key)\n",
    "    ciphertext = transposition_cipher(ciphertext, transposition_key)\n",
    "    return ciphertext\n",
    "\n",
    "# Example usage\n",
    "BobMessage = input(\"What is the message Bob wants to send to Alice?\")\n",
    "ciphertext = encrypt(plaintext)\n",
    "print(\"This is the encrypted message Alice receives:  \", ciphertext)"
   ]
  },
  {
   "cell_type": "markdown",
   "id": "a6e241c7",
   "metadata": {},
   "source": [
    "### More symmetric key encryption - 3 pass encryption\n",
    "\n",
    "The Three Pass Protocol for encryption relies upon a basic, fundamental property of mathematics -- the _commutative property_. This protocol uses the commutative property to allow individuals to exchange encrypted messages _without_ knowing each other's keys.  \n",
    "\n",
    "One can imagine the utility of this approach, which allows two individuals to agree upon a protocol for encryption, but without having to establish a key or list of keys, which could ultimately be compromised. You'll note that three pass protocol encryption is technically a subform of symmetric key encryption, as the keys used to encrypt and decrypt are the same numbers. But, it is mathematically curious to see the commutative property of mathematics \"in action\", and for that reason, we will explore this as a useful venture in cryptography from that perspective.\n",
    "\n",
    "As suggested by the name, the three pass protocol requires three \"passes\" of the message. Use the code block below to explore the three pass encryption protocol. Once you have explored how this code block works, see if you can improve upon it by assigning each pass to a function, and then creating new lines of code that call upon a \"main function\" that invokes the three functions for each pass (and a final function for decryption). \n",
    "\n",
    "If you are confused, refer to code block above for an example of how functions can be defined, and then how those functions can be called upon in code. "
   ]
  },
  {
   "cell_type": "markdown",
   "id": "84b51c68",
   "metadata": {},
   "source": [
    "##### Example Three Pass Protocol (Code Block C)"
   ]
  },
  {
   "cell_type": "code",
   "execution_count": null,
   "id": "d996f73d",
   "metadata": {},
   "outputs": [],
   "source": [
    "BobMessage = input(\"What is Bob's plain text message to Alice?  \")\n",
    "BobKey = int(input(\"What is the secret key that Bob will use to encrypt the message?  \"))\n",
    "BobPassOne = \"\"\n",
    "for l in BobMessage:\n",
    "    c = ord(l) * BobKey\n",
    "    BobPassOne += (chr(c))\n",
    "print(\"The message Bob first passes the Alice is:  \", BobPassOne)\n",
    "\n",
    "print(\"Alice then takes Bob's message and encrypts it using her secret key that she has not shared with Bob\")\n",
    "AliceKey = int(input(\"What is the secret key that Alice will use to encrypt the message?  \"))\n",
    "AlicePassTwo = \"\"\n",
    "for l in BobPassOne:\n",
    "    c = int(ord(l) * AliceKey)\n",
    "    AlicePassTwo += (chr(c))\n",
    "print(\"Alice then passes the following doubly-encrypted message back to Bob:  \", AlicePassTwo)\n",
    "\n",
    "print(\"Bob receives the message, and performs the inverse operation on the encrypted message using his secret key\")\n",
    "BobPassThree = \"\"\n",
    "for l in AlicePassTwo:\n",
    "    c = int(ord(l) / BobKey)\n",
    "    BobPassThree += (chr(c))\n",
    "print(\"Bob then passes the encrypted message back to Alice. The message at this stage is:  \", BobPassThree)\n",
    "print(\"Alice then performs the inverse operation of her original encryption operation using her secret key\")\n",
    "AliceFinalMessage = \"\"\n",
    "for l in BobPassThree: \n",
    "    c = int(ord(l) / AliceKey)\n",
    "    AliceFinalMessage += (chr(c))\n",
    "print('The final unencrypted message that Alice reads is:  ', AliceFinalMessage)"
   ]
  },
  {
   "cell_type": "markdown",
   "id": "fa8183d2",
   "metadata": {},
   "source": [
    "### Your turn - creating a new encryption protocol"
   ]
  },
  {
   "cell_type": "markdown",
   "id": "f5d2d936",
   "metadata": {},
   "source": [
    "At this point, you are ready to begin designing and developing your own encryption protocol. You will begin designing it today, and then continue its development in Days 6 through 8 of this module. \n",
    "\n",
    "To begin designing, you should use the paper-based activity \"Designing an encryption protocol\". Once your design has been approved by your teacher, you may begin developing it using a Python notebook.\n",
    "\n",
    "You will be submitting your encryption protocols to the provided drop box. They will be evaluated by our GTRI faculty, with one protocol winning the recognition of \"most secure\"!"
   ]
  }
 ],
 "metadata": {
  "kernelspec": {
   "display_name": "Python 3 (ipykernel)",
   "language": "python",
   "name": "python3"
  },
  "language_info": {
   "codemirror_mode": {
    "name": "ipython",
    "version": 3
   },
   "file_extension": ".py",
   "mimetype": "text/x-python",
   "name": "python",
   "nbconvert_exporter": "python",
   "pygments_lexer": "ipython3",
   "version": "3.9.7"
  }
 },
 "nbformat": 4,
 "nbformat_minor": 5
}
