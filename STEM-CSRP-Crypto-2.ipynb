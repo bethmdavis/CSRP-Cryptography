{
 "cells": [
  {
   "cell_type": "markdown",
   "metadata": {},
   "source": [
    "# Cryptography with Python (Day 2)"
   ]
  },
  {
   "cell_type": "markdown",
   "metadata": {},
   "source": [
    "## Data and Math in Python"
   ]
  },
  {
   "cell_type": "markdown",
   "metadata": {},
   "source": [
    "In programming, we use data for various purposes. Imagine the data that your school has to keep on file for you as a student. You have: \n",
    "\n",
    "1. Text information, such as your name\n",
    "2. Date information, such as your birthdate or date that you first enrolled in the school \n",
    "3. Numerical information, such as your GPA and number of credit hours completed\n",
    "\n",
    "Now, think about how often this information is used - and by whom. Your teachers, counselors, and principals each need to be able to view and use this information at different times and places and for differnt reasons. But despite all of those variations, the data must remain the same! \n",
    "\n",
    "Imagine if one program the school used reported the dates as DD/MM/YYYY, while another reported it as MM/DD/YY.\n",
    "Perhaps you have a birthdate, such as May 12th, 2006 (05/12/2006). If the computer programs were programmed poorly, they could wind up swapping your birth day and birth month. \n",
    "\n",
    "Imagine your school all the sudden thought you were in the wrong grade level because your correct birthdate of\n",
    "**05/12/2006 (MM/DD/YYYY)** was incorrectly changed to **12/05/2006 (DD/MM/YYYY)**. This would be a disaster!\n",
    "\n",
    "Thankfully, programming languages are developed to pay special attention to the types of data being used and the formatting of that data. In Python, we can use _data types_ to explicitly state what type of data a given value is. "
   ]
  },
  {
   "cell_type": "markdown",
   "metadata": {},
   "source": [
    "### Examples of data types in Python:\n",
    "\n",
    "Below are the following data types that we will use in this module. There are many more that we are not covering, but understanding how to identify and use these data types \n",
    "- String (str), which is a non-numerical string of text that can include letters, numbers, and symbols\n",
    "- Integer (int), which is a positive whole number without a sign (no positive + sign or negative - sign)\n",
    "- Float (float), which is a positive number with decimals with up to 32 digits\n",
    "- Boolean (Bool), which is a true/false value that corresponds to 1 (true) or 0 (false)\n",
    "\n",
    "Each of the code blocks below takes an input data value as a particular data type, and then converts it to a new data type. Identify the original and final data types for each block. "
   ]
  },
  {
   "cell_type": "markdown",
   "metadata": {},
   "source": [
    "##### String to boolean (Code Block E)"
   ]
  },
  {
   "cell_type": "code",
   "execution_count": 1,
   "metadata": {},
   "outputs": [
    {
     "name": "stdout",
     "output_type": "stream",
     "text": [
      "Please type your name: \n",
      "Your name is:  \n",
      "The original data type is:  <class 'str'>\n",
      "Your converted data is:  False\n",
      "Your converted data type is:  <class 'bool'>\n"
     ]
    }
   ],
   "source": [
    "InputData = str(input(\"Please type your name: \"))\n",
    "print(\"Your name is: \", InputData)\n",
    "print(\"The original data type is: \", type(InputData))\n",
    "ConvertedData = bool(InputData)\n",
    "print(\"Your converted data is: \", ConvertedData)\n",
    "print(\"Your converted data type is: \", type(ConvertedData))"
   ]
  },
  {
   "cell_type": "markdown",
   "metadata": {},
   "source": [
    "##### Integer to floating point (Code Block F)"
   ]
  },
  {
   "cell_type": "code",
   "execution_count": 2,
   "metadata": {},
   "outputs": [
    {
     "name": "stdout",
     "output_type": "stream",
     "text": [
      "Please type a whole number integer: 6\n",
      "Your input number is:   6\n",
      "The original data type is:   <class 'int'>\n",
      "Your converted data is:  6.0\n",
      "Your converted data type is:  <class 'float'>\n"
     ]
    }
   ],
   "source": [
    "InputData = int(input(\"Please type a whole number integer: \"))\n",
    "print(\"Your input number is:  \", InputData)\n",
    "print(\"The original data type is:  \", type(InputData))\n",
    "ConvertedData = float(InputData)\n",
    "print(\"Your converted data is: \", ConvertedData)\n",
    "print(\"Your converted data type is: \", type(ConvertedData))"
   ]
  },
  {
   "cell_type": "markdown",
   "metadata": {},
   "source": [
    "##### Floating point to integer (Code Block G)"
   ]
  },
  {
   "cell_type": "code",
   "execution_count": 5,
   "metadata": {},
   "outputs": [
    {
     "name": "stdout",
     "output_type": "stream",
     "text": [
      "Please type a number that has at least one digital in a decimal place: 4.6\n",
      "Your input number is:  4.6\n",
      "The original data type is:  <class 'float'>\n",
      "Your converted data is:  4\n",
      "Your converted data type is:  <class 'int'>\n"
     ]
    }
   ],
   "source": [
    "InputData = float(input(\"Please type a number that has at least one digital in a decimal place: \"))\n",
    "print(\"Your input number is: \", InputData)\n",
    "print(\"The original data type is: \", type(InputData))\n",
    "ConvertedData = int(InputData)\n",
    "print(\"Your converted data is: \", ConvertedData)\n",
    "print(\"Your converted data type is: \", type(ConvertedData))"
   ]
  },
  {
   "cell_type": "markdown",
   "metadata": {
    "id": "Q3LR8sAM33_S"
   },
   "source": [
    "## Using Python to do math\n",
    "\n",
    "---\n",
    "\n",
    "To further explore Cryptography, we need to expand our tool kit of mathematical functions in Python. If our goal is to hide secret information, we won't get very far with just addition and subtraction."
   ]
  },
  {
   "cell_type": "markdown",
   "metadata": {
    "id": "5kAFW2EihYZU"
   },
   "source": [
    "### Math Operations in Python\n",
    "\n",
    "Think about yesterday's shift cipher example -- we used simple addition and subtraction to yield the ciphertext. There are the simplest mathematical functions we could apply to convert plaintext to ciphertext using a shift cipher. \n",
    "\n",
    "Explores Code Blocks A through D below to answer the two following questions: \n",
    "1. Can you deduce what mathematical function is being used?\n",
    "2. Can you identify the Python command that invokes the mathematical function? (for example, in Python \"+\" invokves addition and \"-\" invokes subtraction."
   ]
  },
  {
   "cell_type": "markdown",
   "metadata": {
    "id": "JcCjgktTm49-"
   },
   "source": [
    "##### Code Block A"
   ]
  },
  {
   "cell_type": "code",
   "execution_count": 9,
   "metadata": {
    "colab": {
     "base_uri": "https://localhost:8080/"
    },
    "id": "dTIIW7uYh5Cg",
    "outputId": "1445739f-59d0-4f0a-c158-235d5384cd73"
   },
   "outputs": [
    {
     "name": "stdout",
     "output_type": "stream",
     "text": [
      "Type in a whole digit integer: 10\n",
      "Type in a whole digit integer: 5\n",
      "2\n"
     ]
    }
   ],
   "source": [
    "Number1 = int(input(\"Type in a whole digit integer: \"))\n",
    "Number2 = int(input(\"Type in a whole digit integer: \"))\n",
    "ResultingNumber = int(Number1 / Number2)\n",
    "print (\"The number resulting from this mathematical function is: \", ResultingNumber)"
   ]
  },
  {
   "cell_type": "markdown",
   "metadata": {},
   "source": [
    "##### Code Block B"
   ]
  },
  {
   "cell_type": "code",
   "execution_count": 8,
   "metadata": {},
   "outputs": [
    {
     "name": "stdout",
     "output_type": "stream",
     "text": [
      "Type in a whole digit integer: 5\n",
      "Type in a whole digit integer: 5\n",
      "25\n"
     ]
    }
   ],
   "source": [
    "Number1 = int(input(\"Type in a whole digit integer: \"))\n",
    "Number2 = int(input(\"Type in a whole digit integer: \"))\n",
    "ResultingNumber = int(Number1 * Number2)\n",
    "print (\"The number resulting from this mathematical function is: \", ResultingNumber)"
   ]
  },
  {
   "cell_type": "markdown",
   "metadata": {},
   "source": [
    "##### Code Block C"
   ]
  },
  {
   "cell_type": "code",
   "execution_count": 5,
   "metadata": {},
   "outputs": [
    {
     "name": "stdout",
     "output_type": "stream",
     "text": [
      "Type in a whole digit integer: 9\n",
      "Type in a whole digit integer: 10\n",
      "0.9542425094393249\n"
     ]
    }
   ],
   "source": [
    "import math ##This is a library, which is a form of abstraction within the Python language\n",
    "\n",
    "Number1 = int(input(\"Type in a whole digit integer: \"))\n",
    "Number2 = int(input(\"Type in a whole digit integer: \"))\n",
    "ResultingNumber = float(math.log(Number1,Number2))\n",
    "print (\"The number resulting from this mathematical function is: \", ResultingNumber)"
   ]
  },
  {
   "cell_type": "markdown",
   "metadata": {},
   "source": [
    "##### Code Block D"
   ]
  },
  {
   "cell_type": "code",
   "execution_count": 7,
   "metadata": {},
   "outputs": [
    {
     "name": "stdout",
     "output_type": "stream",
     "text": [
      "Type in a whole digit integer: 3\n",
      "Type in a whole digit integer: 2\n",
      "9\n"
     ]
    }
   ],
   "source": [
    "Number1 = int(input(\"Type in a whole digit integer: \"))\n",
    "Number2 = int(input(\"Type in a whole digit integer: \"))\n",
    "ResultingNumber = int(Number1 ** Number2)\n",
    "print (\"The number resulting from this mathematical function is: \", ResultingNumber)"
   ]
  },
  {
   "cell_type": "markdown",
   "metadata": {},
   "source": [
    "## Creating new ciphers\n",
    "\n",
    "Using the knowledge you have gained today about numbers and math in python, create your own cipher. You may use the code block below as a starter template for your cipher."
   ]
  },
  {
   "cell_type": "code",
   "execution_count": 1,
   "metadata": {},
   "outputs": [
    {
     "name": "stdout",
     "output_type": "stream",
     "text": [
      "Type your message here: Hello, World\n",
      "Enter your shift key here: 10\n",
      "\n"
     ]
    }
   ],
   "source": [
    "#You may modify any and all of this code, with the goal of producing ciphertext\n",
    "# using a method that is different than what is shown below. \n",
    "\n",
    "msg = input(\"Type your message here: \")\n",
    "shift = int(input(\"Enter your shift key here: \"))\n",
    "output = \"\"\n",
    "for l in msg:\n",
    "    # At minimum, you should modify the line below to use your own mathematics to produce the ciphertext\n",
    "  c = ord(l) + shift \n",
    "print(output)"
   ]
  }
 ],
 "metadata": {
  "colab": {
   "provenance": []
  },
  "kernelspec": {
   "display_name": "Python 3 (ipykernel)",
   "language": "python",
   "name": "python3"
  },
  "language_info": {
   "codemirror_mode": {
    "name": "ipython",
    "version": 3
   },
   "file_extension": ".py",
   "mimetype": "text/x-python",
   "name": "python",
   "nbconvert_exporter": "python",
   "pygments_lexer": "ipython3",
   "version": "3.9.7"
  }
 },
 "nbformat": 4,
 "nbformat_minor": 1
}
